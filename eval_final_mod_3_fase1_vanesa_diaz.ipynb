{
 "cells": [
  {
   "cell_type": "code",
   "execution_count": 1,
   "metadata": {},
   "outputs": [],
   "source": [
    "# importamos las librerías que necesitamos\n",
    "\n",
    "# Tratamiento de datos\n",
    "# -----------------------------------------------------------------------\n",
    "import pandas as pd\n",
    "import numpy as np\n",
    "\n",
    "# Imputación de nulos usando métodos avanzados estadísticos\n",
    "# -----------------------------------------------------------------------\n",
    "from sklearn.impute import SimpleImputer\n",
    "from sklearn.experimental import enable_iterative_imputer\n",
    "from sklearn.impute import IterativeImputer\n",
    "from sklearn.impute import KNNImputer\n",
    "# Librerías de visualización\n",
    "# -----------------------------------------------------------------------\n",
    "import seaborn as sns\n",
    "import matplotlib.pyplot as plt\n",
    "# Configuración\n",
    "# -----------------------------------------------------------------------\n",
    "pd.set_option('display.max_columns', None) # para poder visualizar todas las columnas de los DataFrames"
   ]
  },
  {
   "cell_type": "code",
   "execution_count": 2,
   "metadata": {},
   "outputs": [
    {
     "data": {
      "text/html": [
       "<div>\n",
       "<style scoped>\n",
       "    .dataframe tbody tr th:only-of-type {\n",
       "        vertical-align: middle;\n",
       "    }\n",
       "\n",
       "    .dataframe tbody tr th {\n",
       "        vertical-align: top;\n",
       "    }\n",
       "\n",
       "    .dataframe thead th {\n",
       "        text-align: right;\n",
       "    }\n",
       "</style>\n",
       "<table border=\"1\" class=\"dataframe\">\n",
       "  <thead>\n",
       "    <tr style=\"text-align: right;\">\n",
       "      <th></th>\n",
       "      <th>Loyalty Number</th>\n",
       "      <th>Year</th>\n",
       "      <th>Month</th>\n",
       "      <th>Flights Booked</th>\n",
       "      <th>Flights with Companions</th>\n",
       "      <th>Total Flights</th>\n",
       "      <th>Distance</th>\n",
       "      <th>Points Accumulated</th>\n",
       "      <th>Points Redeemed</th>\n",
       "      <th>Dollar Cost Points Redeemed</th>\n",
       "    </tr>\n",
       "  </thead>\n",
       "  <tbody>\n",
       "    <tr>\n",
       "      <th>211409</th>\n",
       "      <td>558854</td>\n",
       "      <td>2018</td>\n",
       "      <td>1</td>\n",
       "      <td>7</td>\n",
       "      <td>3</td>\n",
       "      <td>10</td>\n",
       "      <td>1680</td>\n",
       "      <td>168.0</td>\n",
       "      <td>0</td>\n",
       "      <td>0</td>\n",
       "    </tr>\n",
       "    <tr>\n",
       "      <th>373737</th>\n",
       "      <td>202716</td>\n",
       "      <td>2018</td>\n",
       "      <td>11</td>\n",
       "      <td>0</td>\n",
       "      <td>0</td>\n",
       "      <td>0</td>\n",
       "      <td>0</td>\n",
       "      <td>0.0</td>\n",
       "      <td>0</td>\n",
       "      <td>0</td>\n",
       "    </tr>\n",
       "    <tr>\n",
       "      <th>215420</th>\n",
       "      <td>768012</td>\n",
       "      <td>2018</td>\n",
       "      <td>1</td>\n",
       "      <td>7</td>\n",
       "      <td>5</td>\n",
       "      <td>12</td>\n",
       "      <td>1188</td>\n",
       "      <td>118.0</td>\n",
       "      <td>0</td>\n",
       "      <td>0</td>\n",
       "    </tr>\n",
       "    <tr>\n",
       "      <th>55568</th>\n",
       "      <td>360256</td>\n",
       "      <td>2017</td>\n",
       "      <td>4</td>\n",
       "      <td>0</td>\n",
       "      <td>0</td>\n",
       "      <td>0</td>\n",
       "      <td>0</td>\n",
       "      <td>0.0</td>\n",
       "      <td>0</td>\n",
       "      <td>0</td>\n",
       "    </tr>\n",
       "    <tr>\n",
       "      <th>242816</th>\n",
       "      <td>775639</td>\n",
       "      <td>2018</td>\n",
       "      <td>4</td>\n",
       "      <td>5</td>\n",
       "      <td>4</td>\n",
       "      <td>9</td>\n",
       "      <td>1728</td>\n",
       "      <td>215.0</td>\n",
       "      <td>0</td>\n",
       "      <td>0</td>\n",
       "    </tr>\n",
       "    <tr>\n",
       "      <th>20607</th>\n",
       "      <td>298869</td>\n",
       "      <td>2017</td>\n",
       "      <td>2</td>\n",
       "      <td>4</td>\n",
       "      <td>0</td>\n",
       "      <td>4</td>\n",
       "      <td>304</td>\n",
       "      <td>30.0</td>\n",
       "      <td>0</td>\n",
       "      <td>0</td>\n",
       "    </tr>\n",
       "    <tr>\n",
       "      <th>84708</th>\n",
       "      <td>110422</td>\n",
       "      <td>2017</td>\n",
       "      <td>6</td>\n",
       "      <td>0</td>\n",
       "      <td>0</td>\n",
       "      <td>0</td>\n",
       "      <td>0</td>\n",
       "      <td>0.0</td>\n",
       "      <td>0</td>\n",
       "      <td>0</td>\n",
       "    </tr>\n",
       "    <tr>\n",
       "      <th>287974</th>\n",
       "      <td>135382</td>\n",
       "      <td>2018</td>\n",
       "      <td>6</td>\n",
       "      <td>1</td>\n",
       "      <td>1</td>\n",
       "      <td>2</td>\n",
       "      <td>2598</td>\n",
       "      <td>259.0</td>\n",
       "      <td>0</td>\n",
       "      <td>0</td>\n",
       "    </tr>\n",
       "    <tr>\n",
       "      <th>267228</th>\n",
       "      <td>829476</td>\n",
       "      <td>2018</td>\n",
       "      <td>4</td>\n",
       "      <td>0</td>\n",
       "      <td>0</td>\n",
       "      <td>0</td>\n",
       "      <td>0</td>\n",
       "      <td>0.0</td>\n",
       "      <td>0</td>\n",
       "      <td>0</td>\n",
       "    </tr>\n",
       "    <tr>\n",
       "      <th>158882</th>\n",
       "      <td>462247</td>\n",
       "      <td>2017</td>\n",
       "      <td>10</td>\n",
       "      <td>0</td>\n",
       "      <td>0</td>\n",
       "      <td>0</td>\n",
       "      <td>0</td>\n",
       "      <td>0.0</td>\n",
       "      <td>0</td>\n",
       "      <td>0</td>\n",
       "    </tr>\n",
       "  </tbody>\n",
       "</table>\n",
       "</div>"
      ],
      "text/plain": [
       "        Loyalty Number  Year  Month  Flights Booked  Flights with Companions  \\\n",
       "211409          558854  2018      1               7                        3   \n",
       "373737          202716  2018     11               0                        0   \n",
       "215420          768012  2018      1               7                        5   \n",
       "55568           360256  2017      4               0                        0   \n",
       "242816          775639  2018      4               5                        4   \n",
       "20607           298869  2017      2               4                        0   \n",
       "84708           110422  2017      6               0                        0   \n",
       "287974          135382  2018      6               1                        1   \n",
       "267228          829476  2018      4               0                        0   \n",
       "158882          462247  2017     10               0                        0   \n",
       "\n",
       "        Total Flights  Distance  Points Accumulated  Points Redeemed  \\\n",
       "211409             10      1680               168.0                0   \n",
       "373737              0         0                 0.0                0   \n",
       "215420             12      1188               118.0                0   \n",
       "55568               0         0                 0.0                0   \n",
       "242816              9      1728               215.0                0   \n",
       "20607               4       304                30.0                0   \n",
       "84708               0         0                 0.0                0   \n",
       "287974              2      2598               259.0                0   \n",
       "267228              0         0                 0.0                0   \n",
       "158882              0         0                 0.0                0   \n",
       "\n",
       "        Dollar Cost Points Redeemed  \n",
       "211409                            0  \n",
       "373737                            0  \n",
       "215420                            0  \n",
       "55568                             0  \n",
       "242816                            0  \n",
       "20607                             0  \n",
       "84708                             0  \n",
       "287974                            0  \n",
       "267228                            0  \n",
       "158882                            0  "
      ]
     },
     "execution_count": 2,
     "metadata": {},
     "output_type": "execute_result"
    }
   ],
   "source": [
    "# antes de empezar vamos a leer los datos, con el método .read_csv (o excel o...)\n",
    "#tmb usamos el método .head(1) para ver la primera fila\n",
    "df_flight = pd.read_csv(\"Customer Flight Activity.csv\")\n",
    "df_flight.sample(10)"
   ]
  },
  {
   "cell_type": "code",
   "execution_count": 3,
   "metadata": {},
   "outputs": [
    {
     "data": {
      "text/plain": [
       "(405624, 10)"
      ]
     },
     "execution_count": 3,
     "metadata": {},
     "output_type": "execute_result"
    }
   ],
   "source": [
    "# vemos la cantidad de filas y columnas\n",
    "df_flight.shape\n",
    "# este archivo tiene 405.624 filas y 10 columnas"
   ]
  },
  {
   "cell_type": "code",
   "execution_count": 4,
   "metadata": {},
   "outputs": [
    {
     "name": "stdout",
     "output_type": "stream",
     "text": [
      "<class 'pandas.core.frame.DataFrame'>\n",
      "RangeIndex: 405624 entries, 0 to 405623\n",
      "Data columns (total 10 columns):\n",
      " #   Column                       Non-Null Count   Dtype  \n",
      "---  ------                       --------------   -----  \n",
      " 0   Loyalty Number               405624 non-null  int64  \n",
      " 1   Year                         405624 non-null  int64  \n",
      " 2   Month                        405624 non-null  int64  \n",
      " 3   Flights Booked               405624 non-null  int64  \n",
      " 4   Flights with Companions      405624 non-null  int64  \n",
      " 5   Total Flights                405624 non-null  int64  \n",
      " 6   Distance                     405624 non-null  int64  \n",
      " 7   Points Accumulated           405624 non-null  float64\n",
      " 8   Points Redeemed              405624 non-null  int64  \n",
      " 9   Dollar Cost Points Redeemed  405624 non-null  int64  \n",
      "dtypes: float64(1), int64(9)\n",
      "memory usage: 30.9 MB\n"
     ]
    }
   ],
   "source": [
    "# el tipo de datos\n",
    "df_flight.info()\n",
    "# todos los datos son de tipo integer excepto la columna 'points accumulated' que es de tipo float. No tiene valores nulos"
   ]
  },
  {
   "cell_type": "code",
   "execution_count": 5,
   "metadata": {},
   "outputs": [
    {
     "data": {
      "text/plain": [
       "1864"
      ]
     },
     "execution_count": 5,
     "metadata": {},
     "output_type": "execute_result"
    }
   ],
   "source": [
    "#cuántas filas hay duplicadas\n",
    "df_flight.duplicated().sum()\n",
    "# tiene 1864 filas duplicadas en un archivo de 405624, lo que supone un 4.6% del total. es un porcentaje muy bajo, por lo\n",
    "# que eliminaremos estos duplicados"
   ]
  },
  {
   "cell_type": "code",
   "execution_count": 6,
   "metadata": {},
   "outputs": [],
   "source": [
    "df_flight = df_flight.drop_duplicates()"
   ]
  },
  {
   "cell_type": "code",
   "execution_count": 7,
   "metadata": {},
   "outputs": [
    {
     "data": {
      "text/plain": [
       "0"
      ]
     },
     "execution_count": 7,
     "metadata": {},
     "output_type": "execute_result"
    }
   ],
   "source": [
    "df_flight.duplicated().sum()"
   ]
  },
  {
   "cell_type": "code",
   "execution_count": 8,
   "metadata": {},
   "outputs": [
    {
     "data": {
      "text/plain": [
       "387023"
      ]
     },
     "execution_count": 8,
     "metadata": {},
     "output_type": "execute_result"
    }
   ],
   "source": [
    "df_flight['Loyalty Number'].duplicated().sum()"
   ]
  },
  {
   "cell_type": "code",
   "execution_count": 9,
   "metadata": {},
   "outputs": [
    {
     "data": {
      "text/plain": [
       "array([2017, 2018], dtype=int64)"
      ]
     },
     "execution_count": 9,
     "metadata": {},
     "output_type": "execute_result"
    }
   ],
   "source": [
    "df_flight['Year'].unique()"
   ]
  },
  {
   "cell_type": "code",
   "execution_count": 10,
   "metadata": {},
   "outputs": [
    {
     "data": {
      "text/plain": [
       "Points Redeemed\n",
       "0      379579\n",
       "447       103\n",
       "523       100\n",
       "443        98\n",
       "516        97\n",
       "        ...  \n",
       "834         1\n",
       "858         1\n",
       "862         1\n",
       "869         1\n",
       "859         1\n",
       "Name: count, Length: 587, dtype: int64"
      ]
     },
     "execution_count": 10,
     "metadata": {},
     "output_type": "execute_result"
    }
   ],
   "source": [
    "# a simple vista parece que las columnas 'points redeemed' y dollar cost points redeemed' sólo tienen ceros, lo comprobamos\n",
    "df_flight['Points Redeemed'].value_counts()\n",
    "# no todo son ceros, pero de 405624 registros, 381443 son ceros,o lo que es lo mismo, un 94% de los registros son 0.\n"
   ]
  },
  {
   "cell_type": "code",
   "execution_count": 11,
   "metadata": {},
   "outputs": [],
   "source": [
    "# como es un porcentaje muy alto de ceros y ésta columna no es relevante para nuestro análisis la eliminamos.\n",
    "df_flight.drop(\"Points Redeemed\", axis = 1, inplace = True)"
   ]
  },
  {
   "cell_type": "code",
   "execution_count": 12,
   "metadata": {},
   "outputs": [
    {
     "data": {
      "text/plain": [
       "Dollar Cost Points Redeemed\n",
       "0     379579\n",
       "36      1037\n",
       "38      1001\n",
       "40       993\n",
       "42       983\n",
       "39       943\n",
       "44       923\n",
       "41       913\n",
       "37       887\n",
       "43       877\n",
       "35       852\n",
       "34       844\n",
       "32       817\n",
       "33       800\n",
       "45       779\n",
       "30       772\n",
       "46       753\n",
       "31       722\n",
       "47       675\n",
       "48       638\n",
       "28       598\n",
       "29       596\n",
       "50       595\n",
       "49       568\n",
       "52       482\n",
       "51       435\n",
       "27       421\n",
       "54       402\n",
       "26       379\n",
       "53       377\n",
       "56       365\n",
       "55       343\n",
       "57       274\n",
       "58       265\n",
       "60       260\n",
       "59       219\n",
       "25       209\n",
       "61       175\n",
       "63       175\n",
       "62       155\n",
       "64       152\n",
       "24       110\n",
       "66       106\n",
       "65        90\n",
       "68        85\n",
       "67        68\n",
       "70        38\n",
       "69        28\n",
       "71         2\n",
       "Name: count, dtype: int64"
      ]
     },
     "execution_count": 12,
     "metadata": {},
     "output_type": "execute_result"
    }
   ],
   "source": [
    "df_flight['Dollar Cost Points Redeemed'].value_counts()\n",
    "# con ésta columna pasa lo mismo que con la anterior, la eliminamos también."
   ]
  },
  {
   "cell_type": "code",
   "execution_count": 13,
   "metadata": {},
   "outputs": [],
   "source": [
    "df_flight.drop(\"Dollar Cost Points Redeemed\", axis = 1, inplace = True)"
   ]
  },
  {
   "cell_type": "code",
   "execution_count": 14,
   "metadata": {},
   "outputs": [
    {
     "data": {
      "text/html": [
       "<div>\n",
       "<style scoped>\n",
       "    .dataframe tbody tr th:only-of-type {\n",
       "        vertical-align: middle;\n",
       "    }\n",
       "\n",
       "    .dataframe tbody tr th {\n",
       "        vertical-align: top;\n",
       "    }\n",
       "\n",
       "    .dataframe thead th {\n",
       "        text-align: right;\n",
       "    }\n",
       "</style>\n",
       "<table border=\"1\" class=\"dataframe\">\n",
       "  <thead>\n",
       "    <tr style=\"text-align: right;\">\n",
       "      <th></th>\n",
       "      <th>Loyalty Number</th>\n",
       "      <th>Year</th>\n",
       "      <th>Month</th>\n",
       "      <th>Flights Booked</th>\n",
       "      <th>Flights with Companions</th>\n",
       "      <th>Total Flights</th>\n",
       "      <th>Distance</th>\n",
       "      <th>Points Accumulated</th>\n",
       "    </tr>\n",
       "  </thead>\n",
       "  <tbody>\n",
       "    <tr>\n",
       "      <th>0</th>\n",
       "      <td>100018</td>\n",
       "      <td>2017</td>\n",
       "      <td>1</td>\n",
       "      <td>3</td>\n",
       "      <td>0</td>\n",
       "      <td>3</td>\n",
       "      <td>1521</td>\n",
       "      <td>152.0</td>\n",
       "    </tr>\n",
       "  </tbody>\n",
       "</table>\n",
       "</div>"
      ],
      "text/plain": [
       "   Loyalty Number  Year  Month  Flights Booked  Flights with Companions  \\\n",
       "0          100018  2017      1               3                        0   \n",
       "\n",
       "   Total Flights  Distance  Points Accumulated  \n",
       "0              3      1521               152.0  "
      ]
     },
     "execution_count": 14,
     "metadata": {},
     "output_type": "execute_result"
    }
   ],
   "source": [
    "df_flight.head(1)"
   ]
  },
  {
   "cell_type": "code",
   "execution_count": 15,
   "metadata": {},
   "outputs": [
    {
     "data": {
      "text/html": [
       "<div>\n",
       "<style scoped>\n",
       "    .dataframe tbody tr th:only-of-type {\n",
       "        vertical-align: middle;\n",
       "    }\n",
       "\n",
       "    .dataframe tbody tr th {\n",
       "        vertical-align: top;\n",
       "    }\n",
       "\n",
       "    .dataframe thead th {\n",
       "        text-align: right;\n",
       "    }\n",
       "</style>\n",
       "<table border=\"1\" class=\"dataframe\">\n",
       "  <thead>\n",
       "    <tr style=\"text-align: right;\">\n",
       "      <th></th>\n",
       "      <th>Loyalty Number</th>\n",
       "      <th>Country</th>\n",
       "      <th>Province</th>\n",
       "      <th>City</th>\n",
       "      <th>Postal Code</th>\n",
       "      <th>Gender</th>\n",
       "      <th>Education</th>\n",
       "      <th>Salary</th>\n",
       "      <th>Marital Status</th>\n",
       "      <th>Loyalty Card</th>\n",
       "      <th>CLV</th>\n",
       "      <th>Enrollment Type</th>\n",
       "      <th>Enrollment Year</th>\n",
       "      <th>Enrollment Month</th>\n",
       "      <th>Cancellation Year</th>\n",
       "      <th>Cancellation Month</th>\n",
       "    </tr>\n",
       "  </thead>\n",
       "  <tbody>\n",
       "    <tr>\n",
       "      <th>7539</th>\n",
       "      <td>684776</td>\n",
       "      <td>Canada</td>\n",
       "      <td>Ontario</td>\n",
       "      <td>Toronto</td>\n",
       "      <td>P2T 6G3</td>\n",
       "      <td>Female</td>\n",
       "      <td>Bachelor</td>\n",
       "      <td>62604.0</td>\n",
       "      <td>Married</td>\n",
       "      <td>Nova</td>\n",
       "      <td>7243.87</td>\n",
       "      <td>Standard</td>\n",
       "      <td>2014</td>\n",
       "      <td>11</td>\n",
       "      <td>NaN</td>\n",
       "      <td>NaN</td>\n",
       "    </tr>\n",
       "    <tr>\n",
       "      <th>2442</th>\n",
       "      <td>146028</td>\n",
       "      <td>Canada</td>\n",
       "      <td>Quebec</td>\n",
       "      <td>Montreal</td>\n",
       "      <td>H4G 3T4</td>\n",
       "      <td>Female</td>\n",
       "      <td>College</td>\n",
       "      <td>NaN</td>\n",
       "      <td>Single</td>\n",
       "      <td>Aurora</td>\n",
       "      <td>8152.24</td>\n",
       "      <td>Standard</td>\n",
       "      <td>2014</td>\n",
       "      <td>6</td>\n",
       "      <td>NaN</td>\n",
       "      <td>NaN</td>\n",
       "    </tr>\n",
       "    <tr>\n",
       "      <th>11614</th>\n",
       "      <td>605926</td>\n",
       "      <td>Canada</td>\n",
       "      <td>British Columbia</td>\n",
       "      <td>Whistler</td>\n",
       "      <td>V6T 1Y8</td>\n",
       "      <td>Female</td>\n",
       "      <td>Bachelor</td>\n",
       "      <td>57022.0</td>\n",
       "      <td>Married</td>\n",
       "      <td>Star</td>\n",
       "      <td>2691.70</td>\n",
       "      <td>Standard</td>\n",
       "      <td>2013</td>\n",
       "      <td>12</td>\n",
       "      <td>NaN</td>\n",
       "      <td>NaN</td>\n",
       "    </tr>\n",
       "    <tr>\n",
       "      <th>13458</th>\n",
       "      <td>283066</td>\n",
       "      <td>Canada</td>\n",
       "      <td>British Columbia</td>\n",
       "      <td>Vancouver</td>\n",
       "      <td>V6E 3D9</td>\n",
       "      <td>Female</td>\n",
       "      <td>Bachelor</td>\n",
       "      <td>54792.0</td>\n",
       "      <td>Divorced</td>\n",
       "      <td>Star</td>\n",
       "      <td>5205.75</td>\n",
       "      <td>Standard</td>\n",
       "      <td>2018</td>\n",
       "      <td>7</td>\n",
       "      <td>NaN</td>\n",
       "      <td>NaN</td>\n",
       "    </tr>\n",
       "    <tr>\n",
       "      <th>1262</th>\n",
       "      <td>152423</td>\n",
       "      <td>Canada</td>\n",
       "      <td>British Columbia</td>\n",
       "      <td>Vancouver</td>\n",
       "      <td>V1E 4R6</td>\n",
       "      <td>Male</td>\n",
       "      <td>Bachelor</td>\n",
       "      <td>75642.0</td>\n",
       "      <td>Married</td>\n",
       "      <td>Aurora</td>\n",
       "      <td>5532.86</td>\n",
       "      <td>Standard</td>\n",
       "      <td>2012</td>\n",
       "      <td>8</td>\n",
       "      <td>NaN</td>\n",
       "      <td>NaN</td>\n",
       "    </tr>\n",
       "  </tbody>\n",
       "</table>\n",
       "</div>"
      ],
      "text/plain": [
       "       Loyalty Number Country          Province       City Postal Code  \\\n",
       "7539           684776  Canada           Ontario    Toronto     P2T 6G3   \n",
       "2442           146028  Canada            Quebec   Montreal     H4G 3T4   \n",
       "11614          605926  Canada  British Columbia   Whistler     V6T 1Y8   \n",
       "13458          283066  Canada  British Columbia  Vancouver     V6E 3D9   \n",
       "1262           152423  Canada  British Columbia  Vancouver     V1E 4R6   \n",
       "\n",
       "       Gender Education   Salary Marital Status Loyalty Card      CLV  \\\n",
       "7539   Female  Bachelor  62604.0        Married         Nova  7243.87   \n",
       "2442   Female   College      NaN         Single       Aurora  8152.24   \n",
       "11614  Female  Bachelor  57022.0        Married         Star  2691.70   \n",
       "13458  Female  Bachelor  54792.0       Divorced         Star  5205.75   \n",
       "1262     Male  Bachelor  75642.0        Married       Aurora  5532.86   \n",
       "\n",
       "      Enrollment Type  Enrollment Year  Enrollment Month  Cancellation Year  \\\n",
       "7539         Standard             2014                11                NaN   \n",
       "2442         Standard             2014                 6                NaN   \n",
       "11614        Standard             2013                12                NaN   \n",
       "13458        Standard             2018                 7                NaN   \n",
       "1262         Standard             2012                 8                NaN   \n",
       "\n",
       "       Cancellation Month  \n",
       "7539                  NaN  \n",
       "2442                  NaN  \n",
       "11614                 NaN  \n",
       "13458                 NaN  \n",
       "1262                  NaN  "
      ]
     },
     "execution_count": 15,
     "metadata": {},
     "output_type": "execute_result"
    }
   ],
   "source": [
    "df_loyalty = pd.read_csv(\"Customer Loyalty History.csv\")\n",
    "df_loyalty.sample(5)"
   ]
  },
  {
   "cell_type": "code",
   "execution_count": 16,
   "metadata": {},
   "outputs": [
    {
     "data": {
      "text/plain": [
       "(16737, 16)"
      ]
     },
     "execution_count": 16,
     "metadata": {},
     "output_type": "execute_result"
    }
   ],
   "source": [
    "df_loyalty.shape"
   ]
  },
  {
   "cell_type": "code",
   "execution_count": 17,
   "metadata": {},
   "outputs": [
    {
     "name": "stdout",
     "output_type": "stream",
     "text": [
      "<class 'pandas.core.frame.DataFrame'>\n",
      "RangeIndex: 16737 entries, 0 to 16736\n",
      "Data columns (total 16 columns):\n",
      " #   Column              Non-Null Count  Dtype  \n",
      "---  ------              --------------  -----  \n",
      " 0   Loyalty Number      16737 non-null  int64  \n",
      " 1   Country             16737 non-null  object \n",
      " 2   Province            16737 non-null  object \n",
      " 3   City                16737 non-null  object \n",
      " 4   Postal Code         16737 non-null  object \n",
      " 5   Gender              16737 non-null  object \n",
      " 6   Education           16737 non-null  object \n",
      " 7   Salary              12499 non-null  float64\n",
      " 8   Marital Status      16737 non-null  object \n",
      " 9   Loyalty Card        16737 non-null  object \n",
      " 10  CLV                 16737 non-null  float64\n",
      " 11  Enrollment Type     16737 non-null  object \n",
      " 12  Enrollment Year     16737 non-null  int64  \n",
      " 13  Enrollment Month    16737 non-null  int64  \n",
      " 14  Cancellation Year   2067 non-null   float64\n",
      " 15  Cancellation Month  2067 non-null   float64\n",
      "dtypes: float64(4), int64(3), object(9)\n",
      "memory usage: 2.0+ MB\n"
     ]
    }
   ],
   "source": [
    "df_loyalty.info()"
   ]
  },
  {
   "cell_type": "code",
   "execution_count": 18,
   "metadata": {},
   "outputs": [
    {
     "data": {
      "text/plain": [
       "Loyalty Number            0\n",
       "Country                   0\n",
       "Province                  0\n",
       "City                      0\n",
       "Postal Code               0\n",
       "Gender                    0\n",
       "Education                 0\n",
       "Salary                 4238\n",
       "Marital Status            0\n",
       "Loyalty Card              0\n",
       "CLV                       0\n",
       "Enrollment Type           0\n",
       "Enrollment Year           0\n",
       "Enrollment Month          0\n",
       "Cancellation Year     14670\n",
       "Cancellation Month    14670\n",
       "dtype: int64"
      ]
     },
     "execution_count": 18,
     "metadata": {},
     "output_type": "execute_result"
    }
   ],
   "source": [
    "df_loyalty.isnull().sum()"
   ]
  },
  {
   "cell_type": "code",
   "execution_count": 19,
   "metadata": {},
   "outputs": [],
   "source": [
    "#las columnas 'Cancellation Year' y 'Cancellation Month', tienen demasiados nulos, en concreto un 87,7%, y además no son\n",
    "# relevantes para nuestro análisis por lo que las eliminamos.\n",
    "df_loyalty.drop(\"Cancellation Year\", axis = 1, inplace = True)"
   ]
  },
  {
   "cell_type": "code",
   "execution_count": 19,
   "metadata": {},
   "outputs": [
    {
     "data": {
      "text/plain": [
       "0"
      ]
     },
     "execution_count": 19,
     "metadata": {},
     "output_type": "execute_result"
    }
   ],
   "source": [
    "df_flight.duplicated().sum()"
   ]
  },
  {
   "cell_type": "code",
   "execution_count": 20,
   "metadata": {},
   "outputs": [
    {
     "name": "stdout",
     "output_type": "stream",
     "text": [
      " \n",
      "----------- ESTAMOS ANALIZANDO LA COLUMNA: 'FLIGHTS BOOKED' -----------\n",
      "\n",
      "Sus valores únicos son: [ 3 10  6  0  8 11  9  4  7  5  2  1 12 13 14 16 15 17 18 19 20 21]\n",
      "\n",
      "Las frecuencias de los valores únicos de esta columna son:\n",
      " Flights Booked\n",
      "0     196128\n",
      "3      18228\n",
      "11     15705\n",
      "5      15084\n",
      "7      14561\n",
      "8      14357\n",
      "9      14164\n",
      "6      13847\n",
      "2      13641\n",
      "10     13363\n",
      "4      12821\n",
      "1      12667\n",
      "13     10782\n",
      "12     10382\n",
      "14      7057\n",
      "15      6582\n",
      "16      4354\n",
      "17      3899\n",
      "18      2958\n",
      "19      1496\n",
      "20      1156\n",
      "21       528\n",
      "Name: count, dtype: int64 \n",
      " \n",
      "----------- ESTAMOS ANALIZANDO LA COLUMNA: 'DISTANCE' -----------\n",
      "\n",
      "Sus valores únicos son: [1521 2030 1200 ... 1217  617 4135]\n",
      "\n",
      "Las frecuencias de los valores únicos de esta columna son:\n",
      " Distance\n",
      "0       196128\n",
      "2520       410\n",
      "2880       401\n",
      "1680       389\n",
      "2160       365\n",
      "         ...  \n",
      "1333         1\n",
      "3722         1\n",
      "3985         1\n",
      "4779         1\n",
      "4135         1\n",
      "Name: count, Length: 4746, dtype: int64 \n",
      " \n",
      "----------- ESTAMOS ANALIZANDO LA COLUMNA: 'POINTS ACCUMULATED' -----------\n",
      "\n",
      "Sus valores únicos son: [152.   203.   120.   ...  18.75 601.   626.  ]\n",
      "\n",
      "Las frecuencias de los valores únicos de esta columna son:\n",
      " Points Accumulated\n",
      "0.00      196128\n",
      "180.00       763\n",
      "270.00       734\n",
      "288.00       717\n",
      "189.00       709\n",
      "           ...  \n",
      "658.50         1\n",
      "556.25         1\n",
      "10.80          1\n",
      "565.50         1\n",
      "626.00         1\n",
      "Name: count, Length: 1549, dtype: int64 \n"
     ]
    }
   ],
   "source": [
    "# voy a ver qué tipos de valores únicos tengo dentro de cada columna sobre las que voy a trabajar posteriormente.\n",
    "\n",
    "# 1º creo una variable con las columnas que me interesa explorar:\n",
    "\n",
    "columnas_de_interes = df_flight[['Flights Booked', 'Distance', 'Points Accumulated']]\n",
    "\n",
    "# 2º creo una función para recorrer cada columna y ver qué valores únicos contienen:\n",
    "\n",
    "for col in columnas_de_interes:\n",
    "    print(f\" \\n----------- ESTAMOS ANALIZANDO LA COLUMNA: '{col.upper()}' -----------\\n\")\n",
    "    print(f\"Sus valores únicos son: {df_flight[col].unique()}\\n\")\n",
    "    print(f\"Las frecuencias de los valores únicos de esta columna son:\\n {df_flight[col].value_counts()} \")"
   ]
  },
  {
   "cell_type": "code",
   "execution_count": 21,
   "metadata": {},
   "outputs": [
    {
     "name": "stdout",
     "output_type": "stream",
     "text": [
      " \n",
      "----------- ESTAMOS ANALIZANDO LA COLUMNA: 'SALARY' -----------\n",
      "\n",
      "Sus valores únicos son: [ 83236.     nan 103495. ...  76178.  91970. -57297.]\n",
      "\n",
      "Las frecuencias de los valores únicos de las categorías son:\n",
      " Salary\n",
      " 101933.0    23\n",
      " 62283.0     14\n",
      " 61809.0     14\n",
      " 51573.0     14\n",
      " 64001.0     13\n",
      "             ..\n",
      " 95907.0      1\n",
      " 72440.0      1\n",
      " 88633.0      1\n",
      " 100572.0     1\n",
      "-57297.0      1\n",
      "Name: count, Length: 5890, dtype: int64 \n",
      " \n",
      "----------- ESTAMOS ANALIZANDO LA COLUMNA: 'EDUCATION' -----------\n",
      "\n",
      "Sus valores únicos son: ['Bachelor' 'College' 'Master' 'High School or Below' 'Doctor']\n",
      "\n",
      "Las frecuencias de los valores únicos de las categorías son:\n",
      " Education\n",
      "Bachelor                10475\n",
      "College                  4238\n",
      "High School or Below      782\n",
      "Doctor                    734\n",
      "Master                    508\n",
      "Name: count, dtype: int64 \n",
      " \n",
      "----------- ESTAMOS ANALIZANDO LA COLUMNA: 'LOYALTY CARD' -----------\n",
      "\n",
      "Sus valores únicos son: ['Star' 'Aurora' 'Nova']\n",
      "\n",
      "Las frecuencias de los valores únicos de las categorías son:\n",
      " Loyalty Card\n",
      "Star      7637\n",
      "Nova      5671\n",
      "Aurora    3429\n",
      "Name: count, dtype: int64 \n",
      " \n",
      "----------- ESTAMOS ANALIZANDO LA COLUMNA: 'MARITAL STATUS' -----------\n",
      "\n",
      "Sus valores únicos son: ['Married' 'Divorced' 'Single']\n",
      "\n",
      "Las frecuencias de los valores únicos de las categorías son:\n",
      " Marital Status\n",
      "Married     9735\n",
      "Single      4484\n",
      "Divorced    2518\n",
      "Name: count, dtype: int64 \n",
      " \n",
      "----------- ESTAMOS ANALIZANDO LA COLUMNA: 'GENDER' -----------\n",
      "\n",
      "Sus valores únicos son: ['Female' 'Male']\n",
      "\n",
      "Las frecuencias de los valores únicos de las categorías son:\n",
      " Gender\n",
      "Female    8410\n",
      "Male      8327\n",
      "Name: count, dtype: int64 \n"
     ]
    }
   ],
   "source": [
    "\n",
    "# Hago lo mismo con las columnas que me interesan del 2º dataframe:\n",
    "\n",
    "columnas_de_interes2 = df_loyalty[['Salary', 'Education', 'Loyalty Card', 'Marital Status', 'Gender']]\n",
    "\n",
    "for col in columnas_de_interes2:\n",
    "    print(f\" \\n----------- ESTAMOS ANALIZANDO LA COLUMNA: '{col.upper()}' -----------\\n\")\n",
    "    print(f\"Sus valores únicos son: {df_loyalty[col].unique()}\\n\")\n",
    "    print(f\"Las frecuencias de los valores únicos de las categorías son:\\n {df_loyalty[col].value_counts()} \")"
   ]
  },
  {
   "cell_type": "code",
   "execution_count": 22,
   "metadata": {},
   "outputs": [],
   "source": [
    "# en la columna salary hay valores en negativo y nan, vamos a gestionarlos:\n",
    "df_loyalty['Salary'] = df_loyalty['Salary'].abs()"
   ]
  },
  {
   "cell_type": "code",
   "execution_count": 23,
   "metadata": {},
   "outputs": [
    {
     "data": {
      "text/plain": [
       "array([ 83236.,     nan, 103495., ...,  76178.,  91970.,  57297.])"
      ]
     },
     "execution_count": 23,
     "metadata": {},
     "output_type": "execute_result"
    }
   ],
   "source": [
    "df_loyalty['Salary'].unique()"
   ]
  },
  {
   "cell_type": "code",
   "execution_count": 24,
   "metadata": {},
   "outputs": [
    {
     "data": {
      "text/plain": [
       "0.25321144769074505"
      ]
     },
     "execution_count": 24,
     "metadata": {},
     "output_type": "execute_result"
    }
   ],
   "source": [
    "df_loyalty['Salary'].isnull().sum() / df_loyalty.shape[0]"
   ]
  },
  {
   "cell_type": "code",
   "execution_count": 25,
   "metadata": {},
   "outputs": [
    {
     "data": {
      "image/png": "[encoded data removed]",
      "text/plain": [
       "<Figure size 2000x1000 with 5 Axes>"
      ]
     },
     "metadata": {},
     "output_type": "display_data"
    }
   ],
   "source": [
    "# tiene un 25% de nulos, no es un porcentaje demasiado pequeño como para decidir, sólo con este parámetro si se aplica\n",
    "# la media. vamos a ver si tiene valores atípicos\n",
    "\n",
    "fig, axes = plt.subplots(nrows = 2, ncols = 3, figsize = (20,10)) \n",
    "\n",
    "axes = axes.flat\n",
    "\n",
    "sns.boxplot(x = 'Salary', data = df_loyalty, ax = axes[0])\n",
    "    \n",
    "plt.tight_layout()\n",
    "fig.delaxes(axes[-1]);"
   ]
  },
  {
   "cell_type": "code",
   "execution_count": 26,
   "metadata": {},
   "outputs": [
    {
     "data": {
      "text/plain": [
       "array([[83236.        ],\n",
       "       [79359.34090727],\n",
       "       [79359.34090727],\n",
       "       ...,\n",
       "       [79359.34090727],\n",
       "       [57297.        ],\n",
       "       [75049.        ]])"
      ]
     },
     "execution_count": 26,
     "metadata": {},
     "output_type": "execute_result"
    }
   ],
   "source": [
    "# vemos que tiene demasiados valores atípicos, por lo que usaremos el KNNimputer\n",
    "\n",
    "# instanciamos la clase del KNNImputer\n",
    "imputer_knn = KNNImputer(n_neighbors = 5)\n",
    "\n",
    "# ajustamos y transformamos los datos\n",
    "imputer_knn_imputado = imputer_knn.fit_transform(df_loyalty[['Salary']])\n",
    "\n",
    "# comprobamos que es lo que nos devuelve, que sigue siendo un array\n",
    "imputer_knn_imputado"
   ]
  },
  {
   "cell_type": "code",
   "execution_count": 27,
   "metadata": {},
   "outputs": [
    {
     "name": "stdout",
     "output_type": "stream",
     "text": [
      "Después del 'KNN' tenemos: \n",
      "Salary    0\n",
      "dtype: int64 nulos\n"
     ]
    }
   ],
   "source": [
    "# añadimos el array al DataFrame.\n",
    "df_loyalty[['Salary']] = imputer_knn_imputado\n",
    "\n",
    "\n",
    "# comprobamos los nulos\n",
    "print(f\"Después del 'KNN' tenemos: \\n{df_loyalty[['Salary']].isnull().sum()} nulos\")"
   ]
  },
  {
   "cell_type": "code",
   "execution_count": 28,
   "metadata": {},
   "outputs": [
    {
     "data": {
      "text/plain": [
       "Index(['Loyalty Number', 'Year', 'Month', 'Flights Booked',\n",
       "       'Flights with Companions', 'Total Flights', 'Distance',\n",
       "       'Points Accumulated'],\n",
       "      dtype='object')"
      ]
     },
     "execution_count": 28,
     "metadata": {},
     "output_type": "execute_result"
    }
   ],
   "source": [
    "df_flight.columns"
   ]
  },
  {
   "cell_type": "code",
   "execution_count": 29,
   "metadata": {},
   "outputs": [],
   "source": [
    "#pasamo a unir los dos dataframes. Comparten la columna Loyalty Number, pero en el 1er dataframe, esa columna tiene \n",
    "# muchos duplicados. primero vamos a intentar solucionar esto. haremos un groupby tomando como referencia la columna \n",
    "# 'Loyalty Number' y haciendo una suma del resto de columnas (excepto las de año y mes)\n",
    "\n",
    "flight_ok = df_flight.groupby('Loyalty Number')[['Flights Booked',\n",
    "       'Flights with Companions', 'Total Flights', 'Distance',\n",
    "       'Points Accumulated']].sum()"
   ]
  },
  {
   "cell_type": "code",
   "execution_count": 30,
   "metadata": {},
   "outputs": [
    {
     "data": {
      "text/html": [
       "<div>\n",
       "<style scoped>\n",
       "    .dataframe tbody tr th:only-of-type {\n",
       "        vertical-align: middle;\n",
       "    }\n",
       "\n",
       "    .dataframe tbody tr th {\n",
       "        vertical-align: top;\n",
       "    }\n",
       "\n",
       "    .dataframe thead th {\n",
       "        text-align: right;\n",
       "    }\n",
       "</style>\n",
       "<table border=\"1\" class=\"dataframe\">\n",
       "  <thead>\n",
       "    <tr style=\"text-align: right;\">\n",
       "      <th></th>\n",
       "      <th>Loyalty Number</th>\n",
       "      <th>Flights Booked</th>\n",
       "      <th>Flights with Companions</th>\n",
       "      <th>Total Flights</th>\n",
       "      <th>Distance</th>\n",
       "      <th>Points Accumulated</th>\n",
       "    </tr>\n",
       "  </thead>\n",
       "  <tbody>\n",
       "    <tr>\n",
       "      <th>0</th>\n",
       "      <td>100018</td>\n",
       "      <td>157</td>\n",
       "      <td>35</td>\n",
       "      <td>192</td>\n",
       "      <td>50682</td>\n",
       "      <td>5376.00</td>\n",
       "    </tr>\n",
       "    <tr>\n",
       "      <th>1</th>\n",
       "      <td>100102</td>\n",
       "      <td>173</td>\n",
       "      <td>42</td>\n",
       "      <td>215</td>\n",
       "      <td>40222</td>\n",
       "      <td>4115.25</td>\n",
       "    </tr>\n",
       "    <tr>\n",
       "      <th>2</th>\n",
       "      <td>100140</td>\n",
       "      <td>152</td>\n",
       "      <td>38</td>\n",
       "      <td>190</td>\n",
       "      <td>41252</td>\n",
       "      <td>4184.25</td>\n",
       "    </tr>\n",
       "    <tr>\n",
       "      <th>3</th>\n",
       "      <td>100214</td>\n",
       "      <td>79</td>\n",
       "      <td>17</td>\n",
       "      <td>96</td>\n",
       "      <td>33982</td>\n",
       "      <td>3426.00</td>\n",
       "    </tr>\n",
       "    <tr>\n",
       "      <th>4</th>\n",
       "      <td>100272</td>\n",
       "      <td>127</td>\n",
       "      <td>36</td>\n",
       "      <td>163</td>\n",
       "      <td>40872</td>\n",
       "      <td>4108.04</td>\n",
       "    </tr>\n",
       "    <tr>\n",
       "      <th>...</th>\n",
       "      <td>...</td>\n",
       "      <td>...</td>\n",
       "      <td>...</td>\n",
       "      <td>...</td>\n",
       "      <td>...</td>\n",
       "      <td>...</td>\n",
       "    </tr>\n",
       "    <tr>\n",
       "      <th>16732</th>\n",
       "      <td>999902</td>\n",
       "      <td>178</td>\n",
       "      <td>47</td>\n",
       "      <td>225</td>\n",
       "      <td>57227</td>\n",
       "      <td>6056.50</td>\n",
       "    </tr>\n",
       "    <tr>\n",
       "      <th>16733</th>\n",
       "      <td>999911</td>\n",
       "      <td>0</td>\n",
       "      <td>0</td>\n",
       "      <td>0</td>\n",
       "      <td>0</td>\n",
       "      <td>0.00</td>\n",
       "    </tr>\n",
       "    <tr>\n",
       "      <th>16734</th>\n",
       "      <td>999940</td>\n",
       "      <td>63</td>\n",
       "      <td>23</td>\n",
       "      <td>86</td>\n",
       "      <td>23410</td>\n",
       "      <td>2415.00</td>\n",
       "    </tr>\n",
       "    <tr>\n",
       "      <th>16735</th>\n",
       "      <td>999982</td>\n",
       "      <td>22</td>\n",
       "      <td>2</td>\n",
       "      <td>24</td>\n",
       "      <td>5948</td>\n",
       "      <td>594.00</td>\n",
       "    </tr>\n",
       "    <tr>\n",
       "      <th>16736</th>\n",
       "      <td>999986</td>\n",
       "      <td>121</td>\n",
       "      <td>17</td>\n",
       "      <td>138</td>\n",
       "      <td>32937</td>\n",
       "      <td>3418.00</td>\n",
       "    </tr>\n",
       "  </tbody>\n",
       "</table>\n",
       "<p>16737 rows × 6 columns</p>\n",
       "</div>"
      ],
      "text/plain": [
       "       Loyalty Number  Flights Booked  Flights with Companions  Total Flights  \\\n",
       "0              100018             157                       35            192   \n",
       "1              100102             173                       42            215   \n",
       "2              100140             152                       38            190   \n",
       "3              100214              79                       17             96   \n",
       "4              100272             127                       36            163   \n",
       "...               ...             ...                      ...            ...   \n",
       "16732          999902             178                       47            225   \n",
       "16733          999911               0                        0              0   \n",
       "16734          999940              63                       23             86   \n",
       "16735          999982              22                        2             24   \n",
       "16736          999986             121                       17            138   \n",
       "\n",
       "       Distance  Points Accumulated  \n",
       "0         50682             5376.00  \n",
       "1         40222             4115.25  \n",
       "2         41252             4184.25  \n",
       "3         33982             3426.00  \n",
       "4         40872             4108.04  \n",
       "...         ...                 ...  \n",
       "16732     57227             6056.50  \n",
       "16733         0                0.00  \n",
       "16734     23410             2415.00  \n",
       "16735      5948              594.00  \n",
       "16736     32937             3418.00  \n",
       "\n",
       "[16737 rows x 6 columns]"
      ]
     },
     "execution_count": 30,
     "metadata": {},
     "output_type": "execute_result"
    }
   ],
   "source": [
    "df_flight_ok = flight_ok.reset_index()\n",
    "df_flight_ok"
   ]
  },
  {
   "cell_type": "code",
   "execution_count": 31,
   "metadata": {},
   "outputs": [],
   "source": [
    "# ahora ya podemos unir los dos dataframes por la columna que tienen en común y no se nos quedará ningún dato atrás.\n",
    "df_union = df_flight_ok.merge(df_loyalty, how='inner', on='Loyalty Number')"
   ]
  },
  {
   "cell_type": "code",
   "execution_count": 32,
   "metadata": {},
   "outputs": [
    {
     "data": {
      "text/html": [
       "<div>\n",
       "<style scoped>\n",
       "    .dataframe tbody tr th:only-of-type {\n",
       "        vertical-align: middle;\n",
       "    }\n",
       "\n",
       "    .dataframe tbody tr th {\n",
       "        vertical-align: top;\n",
       "    }\n",
       "\n",
       "    .dataframe thead th {\n",
       "        text-align: right;\n",
       "    }\n",
       "</style>\n",
       "<table border=\"1\" class=\"dataframe\">\n",
       "  <thead>\n",
       "    <tr style=\"text-align: right;\">\n",
       "      <th></th>\n",
       "      <th>Loyalty Number</th>\n",
       "      <th>Flights Booked</th>\n",
       "      <th>Flights with Companions</th>\n",
       "      <th>Total Flights</th>\n",
       "      <th>Distance</th>\n",
       "      <th>Points Accumulated</th>\n",
       "      <th>Country</th>\n",
       "      <th>Province</th>\n",
       "      <th>City</th>\n",
       "      <th>Postal Code</th>\n",
       "      <th>Gender</th>\n",
       "      <th>Education</th>\n",
       "      <th>Salary</th>\n",
       "      <th>Marital Status</th>\n",
       "      <th>Loyalty Card</th>\n",
       "      <th>CLV</th>\n",
       "      <th>Enrollment Type</th>\n",
       "      <th>Enrollment Year</th>\n",
       "      <th>Enrollment Month</th>\n",
       "      <th>Cancellation Year</th>\n",
       "      <th>Cancellation Month</th>\n",
       "    </tr>\n",
       "  </thead>\n",
       "  <tbody>\n",
       "    <tr>\n",
       "      <th>0</th>\n",
       "      <td>100018</td>\n",
       "      <td>157</td>\n",
       "      <td>35</td>\n",
       "      <td>192</td>\n",
       "      <td>50682</td>\n",
       "      <td>5376.0</td>\n",
       "      <td>Canada</td>\n",
       "      <td>Alberta</td>\n",
       "      <td>Edmonton</td>\n",
       "      <td>T9G 1W3</td>\n",
       "      <td>Female</td>\n",
       "      <td>Bachelor</td>\n",
       "      <td>92552.0</td>\n",
       "      <td>Married</td>\n",
       "      <td>Aurora</td>\n",
       "      <td>7919.2</td>\n",
       "      <td>Standard</td>\n",
       "      <td>2016</td>\n",
       "      <td>8</td>\n",
       "      <td>NaN</td>\n",
       "      <td>NaN</td>\n",
       "    </tr>\n",
       "  </tbody>\n",
       "</table>\n",
       "</div>"
      ],
      "text/plain": [
       "   Loyalty Number  Flights Booked  Flights with Companions  Total Flights  \\\n",
       "0          100018             157                       35            192   \n",
       "\n",
       "   Distance  Points Accumulated Country Province      City Postal Code  \\\n",
       "0     50682              5376.0  Canada  Alberta  Edmonton     T9G 1W3   \n",
       "\n",
       "   Gender Education   Salary Marital Status Loyalty Card     CLV  \\\n",
       "0  Female  Bachelor  92552.0        Married       Aurora  7919.2   \n",
       "\n",
       "  Enrollment Type  Enrollment Year  Enrollment Month  Cancellation Year  \\\n",
       "0        Standard             2016                 8                NaN   \n",
       "\n",
       "   Cancellation Month  \n",
       "0                 NaN  "
      ]
     },
     "execution_count": 32,
     "metadata": {},
     "output_type": "execute_result"
    }
   ],
   "source": [
    "df_union.head(1)"
   ]
  },
  {
   "cell_type": "code",
   "execution_count": 48,
   "metadata": {},
   "outputs": [
    {
     "data": {
      "text/plain": [
       "(16737, 20)"
      ]
     },
     "execution_count": 48,
     "metadata": {},
     "output_type": "execute_result"
    }
   ],
   "source": [
    "df_union.shape"
   ]
  },
  {
   "cell_type": "code",
   "execution_count": 36,
   "metadata": {},
   "outputs": [
    {
     "data": {
      "text/plain": [
       "Index(['loyalty_number', 'flights_booked', 'flights_with_companions',\n",
       "       'total_flights', 'distance', 'points_accumulated', 'country',\n",
       "       'province', 'city', 'postal_code', 'gender', 'education', 'salary',\n",
       "       'marital_status', 'loyalty_card', 'clv', 'enrollment_type',\n",
       "       'enrollment_year', 'enrollment_month', 'cancellation_year',\n",
       "       'cancellation_month'],\n",
       "      dtype='object')"
      ]
     },
     "execution_count": 36,
     "metadata": {},
     "output_type": "execute_result"
    }
   ],
   "source": [
    "# Cambiar los nombres de las columnas a minúsculas y los espacios por guion bajo\n",
    "df_union.columns = df_union.columns.str.lower().str.replace(' ', '_')\n",
    "\n",
    "# Resultado\n",
    "df_union.columns"
   ]
  },
  {
   "cell_type": "code",
   "execution_count": 37,
   "metadata": {},
   "outputs": [],
   "source": [
    "# lo guardamos como un csv para seguir con las siguientes fases\n",
    "df_union.to_csv(\"df_union.csv\", index = False)"
   ]
  },
  {
   "cell_type": "markdown",
   "metadata": {},
   "source": [
    "# FASE 2 - VISUALIZACIÓN"
   ]
  },
  {
   "cell_type": "code",
   "execution_count": 38,
   "metadata": {},
   "outputs": [
    {
     "data": {
      "image/png": "[encoded data removed]",
      "text/plain": [
       "<Figure size 640x480 with 1 Axes>"
      ]
     },
     "metadata": {},
     "output_type": "display_data"
    }
   ],
   "source": [
    "#1. ¿Cómo se distribuye la cantidad de vuelos reservados por mes durante el año?\n",
    "sns.barplot(x = \"Month\", \n",
    "            y = 'Flights Booked',\n",
    "              data = df_flight, \n",
    "              palette = \"mako\", \n",
    "              order = ['1', '2', '3', '4', '5', '6', '7', '8', '9', '10', '11', '12'], \n",
    "              hue = \"Year\")\n",
    "\n",
    "# giramos las etiquetas del eje \"x\",  \n",
    "plt.xticks(rotation = 90)\n",
    "\n",
    "# cambiamos el nombre de los ejes usando los métodos 'plt.ylabel()' y 'plt.xlabel()'\n",
    "plt.xlabel(\"Mes\")\n",
    "plt.ylabel(\"Vuelos reservados\"); "
   ]
  },
  {
   "cell_type": "code",
   "execution_count": 39,
   "metadata": {},
   "outputs": [
    {
     "data": {
      "image/png": "[encoded data removed]",
      "text/plain": [
       "<Figure size 640x480 with 1 Axes>"
      ]
     },
     "metadata": {},
     "output_type": "display_data"
    }
   ],
   "source": [
    "#2. ¿Existe una relación entre la distancia de los vuelos y los puntos acumulados por los clientes?\n",
    "\n",
    "sns.scatterplot(x = \"distance\", \n",
    "                y = \"points_accumulated\", \n",
    "                data = df_union)\n",
    "\n",
    "# cambiamos los nombres de los ejes\n",
    "plt.xlabel(\"Distancia Vuelos\")\n",
    "plt.ylabel(\"Puntos Acumulados\");\n",
    "# en el gráfico podemos ver que estas dos variables tienen una relación lineal positiva, es decir, que a mayor distancia\n",
    "# recorrida en un vuelo mayor número de puntos acumulados"
   ]
  },
  {
   "cell_type": "code",
   "execution_count": 40,
   "metadata": {},
   "outputs": [
    {
     "data": {
      "image/png": "[encoded data removed]",
      "text/plain": [
       "<Figure size 640x480 with 1 Axes>"
      ]
     },
     "metadata": {},
     "output_type": "display_data"
    }
   ],
   "source": [
    "# 3. ¿Cuál es la distribución de los clientes por provincia o estado?\n",
    "sns.countplot(x = \"province\", \n",
    "              data = df_union,\n",
    "              color = \"b\", \n",
    "             )\n",
    "\n",
    "# giramos las etiquetas del eje \"x\", en este caso a 90º. En este caso solo vamos a usar el parámetro 'rotation', \n",
    "# más adelante veremos mas ejemplos para usar los otros parámetros. \n",
    "plt.xticks(rotation = 90)\n",
    "\n",
    "# cambiamos el nombre de los ejes usando los métodos 'plt.ylabel()' y 'plt.xlabel()' ya que estamos creando solo una gráfica\n",
    "plt.xlabel(\"Provincia\")\n",
    "plt.ylabel(\"Nº de clientes\");\n"
   ]
  },
  {
   "cell_type": "code",
   "execution_count": 41,
   "metadata": {},
   "outputs": [
    {
     "data": {
      "text/html": [
       "<div>\n",
       "<style scoped>\n",
       "    .dataframe tbody tr th:only-of-type {\n",
       "        vertical-align: middle;\n",
       "    }\n",
       "\n",
       "    .dataframe tbody tr th {\n",
       "        vertical-align: top;\n",
       "    }\n",
       "\n",
       "    .dataframe thead th {\n",
       "        text-align: right;\n",
       "    }\n",
       "</style>\n",
       "<table border=\"1\" class=\"dataframe\">\n",
       "  <thead>\n",
       "    <tr style=\"text-align: right;\">\n",
       "      <th></th>\n",
       "      <th>education</th>\n",
       "      <th>salary</th>\n",
       "    </tr>\n",
       "  </thead>\n",
       "  <tbody>\n",
       "    <tr>\n",
       "      <th>0</th>\n",
       "      <td>Bachelor</td>\n",
       "      <td>72577.25</td>\n",
       "    </tr>\n",
       "    <tr>\n",
       "      <th>1</th>\n",
       "      <td>College</td>\n",
       "      <td>79359.34</td>\n",
       "    </tr>\n",
       "    <tr>\n",
       "      <th>2</th>\n",
       "      <td>Doctor</td>\n",
       "      <td>178608.90</td>\n",
       "    </tr>\n",
       "    <tr>\n",
       "      <th>3</th>\n",
       "      <td>High School or Below</td>\n",
       "      <td>61199.16</td>\n",
       "    </tr>\n",
       "    <tr>\n",
       "      <th>4</th>\n",
       "      <td>Master</td>\n",
       "      <td>103757.85</td>\n",
       "    </tr>\n",
       "  </tbody>\n",
       "</table>\n",
       "</div>"
      ],
      "text/plain": [
       "              education     salary\n",
       "0              Bachelor   72577.25\n",
       "1               College   79359.34\n",
       "2                Doctor  178608.90\n",
       "3  High School or Below   61199.16\n",
       "4                Master  103757.85"
      ]
     },
     "execution_count": 41,
     "metadata": {},
     "output_type": "execute_result"
    }
   ],
   "source": [
    "# 4. ¿Cómo se compara el salario promedio entre los diferentes niveles educativos de los clientes?\n",
    "df_salario_educacion = df_union.groupby(\"education\")[\"salary\"].mean().round(2).reset_index()\n",
    "df_salario_educacion"
   ]
  },
  {
   "cell_type": "code",
   "execution_count": 42,
   "metadata": {},
   "outputs": [
    {
     "data": {
      "image/png": "[encoded data removed]",
      "text/plain": [
       "<Figure size 640x480 with 1 Axes>"
      ]
     },
     "metadata": {},
     "output_type": "display_data"
    }
   ],
   "source": [
    "sns.barplot(x = 'education',\n",
    "            y = 'salary',\n",
    "            data = df_salario_educacion)\n",
    "# giramos las etiquetas del eje \"x\",  \n",
    "plt.xticks(rotation = 45)\n",
    "\n",
    "# cambiamos el nombre de los ejes usando los métodos 'plt.ylabel()' y 'plt.xlabel()'\n",
    "plt.xlabel(\"Nivel educación\")\n",
    "plt.ylabel(\"Salario\");"
   ]
  },
  {
   "cell_type": "code",
   "execution_count": 43,
   "metadata": {},
   "outputs": [
    {
     "data": {
      "text/html": [
       "<div>\n",
       "<style scoped>\n",
       "    .dataframe tbody tr th:only-of-type {\n",
       "        vertical-align: middle;\n",
       "    }\n",
       "\n",
       "    .dataframe tbody tr th {\n",
       "        vertical-align: top;\n",
       "    }\n",
       "\n",
       "    .dataframe thead th {\n",
       "        text-align: right;\n",
       "    }\n",
       "</style>\n",
       "<table border=\"1\" class=\"dataframe\">\n",
       "  <thead>\n",
       "    <tr style=\"text-align: right;\">\n",
       "      <th></th>\n",
       "      <th>loyalty_card</th>\n",
       "      <th>loyalty_number</th>\n",
       "    </tr>\n",
       "  </thead>\n",
       "  <tbody>\n",
       "    <tr>\n",
       "      <th>0</th>\n",
       "      <td>Aurora</td>\n",
       "      <td>3429</td>\n",
       "    </tr>\n",
       "    <tr>\n",
       "      <th>1</th>\n",
       "      <td>Nova</td>\n",
       "      <td>5671</td>\n",
       "    </tr>\n",
       "    <tr>\n",
       "      <th>2</th>\n",
       "      <td>Star</td>\n",
       "      <td>7637</td>\n",
       "    </tr>\n",
       "  </tbody>\n",
       "</table>\n",
       "</div>"
      ],
      "text/plain": [
       "  loyalty_card  loyalty_number\n",
       "0       Aurora            3429\n",
       "1         Nova            5671\n",
       "2         Star            7637"
      ]
     },
     "execution_count": 43,
     "metadata": {},
     "output_type": "execute_result"
    }
   ],
   "source": [
    "# 5. ¿Cuál es la proporción de clientes con diferentes tipos de tarjetas de fidelidad?\n",
    "# cuando vimos los valores únicos de las columnas, vimos que habían tres tipos de tarjeta: Star, Aurora y Nova. \n",
    "# usaré un pie chart, por lo que primero voy a agrupar los datos que quiero representar\n",
    "df_tarjetas = df_union.groupby(\"loyalty_card\")[\"loyalty_number\"].count().reset_index()\n",
    "df_tarjetas"
   ]
  },
  {
   "cell_type": "code",
   "execution_count": 44,
   "metadata": {},
   "outputs": [
    {
     "data": {
      "image/png": "[encoded data removed]",
      "text/plain": [
       "<Figure size 640x480 with 1 Axes>"
      ]
     },
     "metadata": {},
     "output_type": "display_data"
    }
   ],
   "source": [
    "colores = [\"c\", \"cadetblue\", \"mediumseagreen\"]\n",
    "plt.pie(\"loyalty_number\", labels= \"loyalty_card\",\n",
    "        data = df_tarjetas, \n",
    "        autopct=  '%1.1f%%', \n",
    "        colors = colores, \n",
    "        textprops={'fontsize': 8}, \n",
    "        startangle=90);"
   ]
  },
  {
   "cell_type": "code",
   "execution_count": 45,
   "metadata": {},
   "outputs": [
    {
     "data": {
      "image/png": "[encoded data removed]",
      "text/plain": [
       "<Figure size 640x480 with 1 Axes>"
      ]
     },
     "metadata": {},
     "output_type": "display_data"
    }
   ],
   "source": [
    "# 6. ¿Cómo se distribuyen los clientes según su estado civil y género?\n",
    "sns.countplot(x = \"marital_status\", \n",
    "              data = df_union, \n",
    "              palette = \"mako\", \n",
    "              hue = \"gender\")\n",
    "\n",
    "# giramos las etiquetas del eje \"x\",  \n",
    "plt.xticks(rotation = 90)\n",
    "\n",
    "# cambiamos el nombre de los ejes usando los métodos 'plt.ylabel()' y 'plt.xlabel()'\n",
    "plt.xlabel(\"Marital Status\")\n",
    "plt.ylabel(\"Nº clientes\"); "
   ]
  },
  {
   "cell_type": "markdown",
   "metadata": {},
   "source": [
    "# FASE 3: : Evaluación de Diferencias en Reservas de Vuelos por Nivel Educativo"
   ]
  },
  {
   "cell_type": "code",
   "execution_count": 52,
   "metadata": {},
   "outputs": [
    {
     "data": {
      "text/html": [
       "<div>\n",
       "<style scoped>\n",
       "    .dataframe tbody tr th:only-of-type {\n",
       "        vertical-align: middle;\n",
       "    }\n",
       "\n",
       "    .dataframe tbody tr th {\n",
       "        vertical-align: top;\n",
       "    }\n",
       "\n",
       "    .dataframe thead th {\n",
       "        text-align: right;\n",
       "    }\n",
       "</style>\n",
       "<table border=\"1\" class=\"dataframe\">\n",
       "  <thead>\n",
       "    <tr style=\"text-align: right;\">\n",
       "      <th></th>\n",
       "      <th>flights_booked</th>\n",
       "      <th>education</th>\n",
       "    </tr>\n",
       "  </thead>\n",
       "  <tbody>\n",
       "    <tr>\n",
       "      <th>0</th>\n",
       "      <td>157</td>\n",
       "      <td>Bachelor</td>\n",
       "    </tr>\n",
       "    <tr>\n",
       "      <th>1</th>\n",
       "      <td>173</td>\n",
       "      <td>College</td>\n",
       "    </tr>\n",
       "    <tr>\n",
       "      <th>2</th>\n",
       "      <td>152</td>\n",
       "      <td>College</td>\n",
       "    </tr>\n",
       "    <tr>\n",
       "      <th>3</th>\n",
       "      <td>79</td>\n",
       "      <td>Bachelor</td>\n",
       "    </tr>\n",
       "    <tr>\n",
       "      <th>4</th>\n",
       "      <td>127</td>\n",
       "      <td>Bachelor</td>\n",
       "    </tr>\n",
       "    <tr>\n",
       "      <th>...</th>\n",
       "      <td>...</td>\n",
       "      <td>...</td>\n",
       "    </tr>\n",
       "    <tr>\n",
       "      <th>16732</th>\n",
       "      <td>178</td>\n",
       "      <td>College</td>\n",
       "    </tr>\n",
       "    <tr>\n",
       "      <th>16733</th>\n",
       "      <td>0</td>\n",
       "      <td>Doctor</td>\n",
       "    </tr>\n",
       "    <tr>\n",
       "      <th>16734</th>\n",
       "      <td>63</td>\n",
       "      <td>Bachelor</td>\n",
       "    </tr>\n",
       "    <tr>\n",
       "      <th>16735</th>\n",
       "      <td>22</td>\n",
       "      <td>College</td>\n",
       "    </tr>\n",
       "    <tr>\n",
       "      <th>16736</th>\n",
       "      <td>121</td>\n",
       "      <td>Bachelor</td>\n",
       "    </tr>\n",
       "  </tbody>\n",
       "</table>\n",
       "<p>16737 rows × 2 columns</p>\n",
       "</div>"
      ],
      "text/plain": [
       "       flights_booked education\n",
       "0                 157  Bachelor\n",
       "1                 173   College\n",
       "2                 152   College\n",
       "3                  79  Bachelor\n",
       "4                 127  Bachelor\n",
       "...               ...       ...\n",
       "16732             178   College\n",
       "16733               0    Doctor\n",
       "16734              63  Bachelor\n",
       "16735              22   College\n",
       "16736             121  Bachelor\n",
       "\n",
       "[16737 rows x 2 columns]"
      ]
     },
     "execution_count": 52,
     "metadata": {},
     "output_type": "execute_result"
    }
   ],
   "source": [
    "# 1º creo un dataframe con las columnas que necesito para el análisis\n",
    "df_analisis = df_union[['flights_booked', 'education']]\n",
    "df_analisis"
   ]
  },
  {
   "cell_type": "code",
   "execution_count": 64,
   "metadata": {},
   "outputs": [
    {
     "name": "stdout",
     "output_type": "stream",
     "text": [
      "education\n",
      "Bachelor                 99.104821\n",
      "College                 100.613025\n",
      "Doctor                  100.866485\n",
      "High School or Below    101.014066\n",
      "Master                  101.602362\n",
      "Name: flights_booked, dtype: float64\n"
     ]
    }
   ],
   "source": [
    "media_por_nivel = df_union.groupby('education')['flights_booked'].mean()\n",
    "\n",
    "print(media_por_nivel)"
   ]
  },
  {
   "cell_type": "code",
   "execution_count": 63,
   "metadata": {},
   "outputs": [
    {
     "name": "stdout",
     "output_type": "stream",
     "text": [
      "education\n",
      "Bachelor                54.231557\n",
      "College                 54.208810\n",
      "Doctor                  55.933391\n",
      "High School or Below    54.867491\n",
      "Master                  54.023146\n",
      "Name: flights_booked, dtype: float64\n"
     ]
    }
   ],
   "source": [
    "desviacion_estandar_por_nivel = df_analisis.groupby('education')['flights_booked'].std()\n",
    "\n",
    "print(desviacion_estandar_por_nivel)"
   ]
  },
  {
   "cell_type": "code",
   "execution_count": 68,
   "metadata": {},
   "outputs": [
    {
     "name": "stdout",
     "output_type": "stream",
     "text": [
      "[ 60. 139.]\n"
     ]
    }
   ],
   "source": [
    "percentile_25_75 = np.percentile(df_analisis['flights_booked'], [25, 75])\n",
    "\n",
    "print(percentile_25_75)"
   ]
  },
  {
   "cell_type": "code",
   "execution_count": 74,
   "metadata": {},
   "outputs": [
    {
     "data": {
      "text/html": [
       "<div>\n",
       "<style scoped>\n",
       "    .dataframe tbody tr th:only-of-type {\n",
       "        vertical-align: middle;\n",
       "    }\n",
       "\n",
       "    .dataframe tbody tr th {\n",
       "        vertical-align: top;\n",
       "    }\n",
       "\n",
       "    .dataframe thead th {\n",
       "        text-align: right;\n",
       "    }\n",
       "</style>\n",
       "<table border=\"1\" class=\"dataframe\">\n",
       "  <thead>\n",
       "    <tr style=\"text-align: right;\">\n",
       "      <th></th>\n",
       "      <th>count</th>\n",
       "      <th>mean</th>\n",
       "      <th>std</th>\n",
       "      <th>min</th>\n",
       "      <th>25%</th>\n",
       "      <th>50%</th>\n",
       "      <th>75%</th>\n",
       "      <th>max</th>\n",
       "    </tr>\n",
       "  </thead>\n",
       "  <tbody>\n",
       "    <tr>\n",
       "      <th>flights_booked</th>\n",
       "      <td>16737.0</td>\n",
       "      <td>99.728984</td>\n",
       "      <td>54.324783</td>\n",
       "      <td>0.0</td>\n",
       "      <td>60.0</td>\n",
       "      <td>113.0</td>\n",
       "      <td>139.0</td>\n",
       "      <td>354.0</td>\n",
       "    </tr>\n",
       "  </tbody>\n",
       "</table>\n",
       "</div>"
      ],
      "text/plain": [
       "                  count       mean        std  min   25%    50%    75%    max\n",
       "flights_booked  16737.0  99.728984  54.324783  0.0  60.0  113.0  139.0  354.0"
      ]
     },
     "execution_count": 74,
     "metadata": {},
     "output_type": "execute_result"
    }
   ],
   "source": [
    "df_analisis.describe().T"
   ]
  },
  {
   "cell_type": "code",
   "execution_count": 73,
   "metadata": {},
   "outputs": [
    {
     "data": {
      "text/html": [
       "<div>\n",
       "<style scoped>\n",
       "    .dataframe tbody tr th:only-of-type {\n",
       "        vertical-align: middle;\n",
       "    }\n",
       "\n",
       "    .dataframe tbody tr th {\n",
       "        vertical-align: top;\n",
       "    }\n",
       "\n",
       "    .dataframe thead th {\n",
       "        text-align: right;\n",
       "    }\n",
       "</style>\n",
       "<table border=\"1\" class=\"dataframe\">\n",
       "  <thead>\n",
       "    <tr style=\"text-align: right;\">\n",
       "      <th></th>\n",
       "      <th>count</th>\n",
       "      <th>unique</th>\n",
       "      <th>top</th>\n",
       "      <th>freq</th>\n",
       "    </tr>\n",
       "  </thead>\n",
       "  <tbody>\n",
       "    <tr>\n",
       "      <th>education</th>\n",
       "      <td>16737</td>\n",
       "      <td>5</td>\n",
       "      <td>Bachelor</td>\n",
       "      <td>10475</td>\n",
       "    </tr>\n",
       "    <tr>\n",
       "      <th>grupo</th>\n",
       "      <td>16737</td>\n",
       "      <td>2</td>\n",
       "      <td>Basic</td>\n",
       "      <td>11257</td>\n",
       "    </tr>\n",
       "  </tbody>\n",
       "</table>\n",
       "</div>"
      ],
      "text/plain": [
       "           count unique       top   freq\n",
       "education  16737      5  Bachelor  10475\n",
       "grupo      16737      2     Basic  11257"
      ]
     },
     "execution_count": 73,
     "metadata": {},
     "output_type": "execute_result"
    }
   ],
   "source": [
    "df_analisis.describe(include = 'O').T"
   ]
  },
  {
   "cell_type": "code",
   "execution_count": 54,
   "metadata": {},
   "outputs": [
    {
     "data": {
      "text/html": [
       "<div>\n",
       "<style scoped>\n",
       "    .dataframe tbody tr th:only-of-type {\n",
       "        vertical-align: middle;\n",
       "    }\n",
       "\n",
       "    .dataframe tbody tr th {\n",
       "        vertical-align: top;\n",
       "    }\n",
       "\n",
       "    .dataframe thead th {\n",
       "        text-align: right;\n",
       "    }\n",
       "</style>\n",
       "<table border=\"1\" class=\"dataframe\">\n",
       "  <thead>\n",
       "    <tr style=\"text-align: right;\">\n",
       "      <th></th>\n",
       "      <th>education</th>\n",
       "      <th>flights_booked</th>\n",
       "    </tr>\n",
       "  </thead>\n",
       "  <tbody>\n",
       "    <tr>\n",
       "      <th>0</th>\n",
       "      <td>Bachelor</td>\n",
       "      <td>1038123</td>\n",
       "    </tr>\n",
       "    <tr>\n",
       "      <th>1</th>\n",
       "      <td>College</td>\n",
       "      <td>426398</td>\n",
       "    </tr>\n",
       "    <tr>\n",
       "      <th>2</th>\n",
       "      <td>Doctor</td>\n",
       "      <td>74036</td>\n",
       "    </tr>\n",
       "    <tr>\n",
       "      <th>3</th>\n",
       "      <td>High School or Below</td>\n",
       "      <td>78993</td>\n",
       "    </tr>\n",
       "    <tr>\n",
       "      <th>4</th>\n",
       "      <td>Master</td>\n",
       "      <td>51614</td>\n",
       "    </tr>\n",
       "  </tbody>\n",
       "</table>\n",
       "</div>"
      ],
      "text/plain": [
       "              education  flights_booked\n",
       "0              Bachelor         1038123\n",
       "1               College          426398\n",
       "2                Doctor           74036\n",
       "3  High School or Below           78993\n",
       "4                Master           51614"
      ]
     },
     "execution_count": 54,
     "metadata": {},
     "output_type": "execute_result"
    }
   ],
   "source": [
    "df_analisis0 = df_union.groupby(\"education\")[\"flights_booked\"].sum().reset_index()\n",
    "df_analisis0"
   ]
  },
  {
   "cell_type": "code",
   "execution_count": null,
   "metadata": {},
   "outputs": [],
   "source": [
    "# Establecemos la hipótesis nula (H0): No existe una diferencia significativa en el número de vuelos reservados por los \n",
    "# diferentes niveles educativos."
   ]
  },
  {
   "cell_type": "code",
   "execution_count": 71,
   "metadata": {},
   "outputs": [],
   "source": [
    "# para realizar la prueba de hipótesis primero debemos crear dos grupos que poder comparar. Para ello creamos una \n",
    "# nueva columna con una clasificación de la educación en dos niveles:\n",
    "\n",
    "education_level = []\n",
    "for level in df_union['education']:\n",
    "    if level == 'Bachelor':\n",
    "        education_level.append('Basic')\n",
    "    elif level == 'High School or Below':\n",
    "        education_level.append('Basic')\n",
    "    elif level == 'College':\n",
    "        education_level.append('High')\n",
    "    elif level == 'Doctor':\n",
    "        education_level.append('High')\n",
    "    else:\n",
    "        education_level.append('High')\n",
    "\n",
    "df_union['grupo'] = education_level"
   ]
  },
  {
   "cell_type": "code",
   "execution_count": 72,
   "metadata": {},
   "outputs": [
    {
     "data": {
      "text/html": [
       "<div>\n",
       "<style scoped>\n",
       "    .dataframe tbody tr th:only-of-type {\n",
       "        vertical-align: middle;\n",
       "    }\n",
       "\n",
       "    .dataframe tbody tr th {\n",
       "        vertical-align: top;\n",
       "    }\n",
       "\n",
       "    .dataframe thead th {\n",
       "        text-align: right;\n",
       "    }\n",
       "</style>\n",
       "<table border=\"1\" class=\"dataframe\">\n",
       "  <thead>\n",
       "    <tr style=\"text-align: right;\">\n",
       "      <th></th>\n",
       "      <th>loyalty_number</th>\n",
       "      <th>flights_booked</th>\n",
       "      <th>flights_with_companions</th>\n",
       "      <th>total_flights</th>\n",
       "      <th>distance</th>\n",
       "      <th>points_accumulated</th>\n",
       "      <th>country</th>\n",
       "      <th>province</th>\n",
       "      <th>city</th>\n",
       "      <th>postal_code</th>\n",
       "      <th>gender</th>\n",
       "      <th>education</th>\n",
       "      <th>salary</th>\n",
       "      <th>marital_status</th>\n",
       "      <th>loyalty_card</th>\n",
       "      <th>clv</th>\n",
       "      <th>enrollment_type</th>\n",
       "      <th>enrollment_year</th>\n",
       "      <th>enrollment_month</th>\n",
       "      <th>cancellation_year</th>\n",
       "      <th>cancellation_month</th>\n",
       "      <th>grupo</th>\n",
       "    </tr>\n",
       "  </thead>\n",
       "  <tbody>\n",
       "    <tr>\n",
       "      <th>0</th>\n",
       "      <td>100018</td>\n",
       "      <td>157</td>\n",
       "      <td>35</td>\n",
       "      <td>192</td>\n",
       "      <td>50682</td>\n",
       "      <td>5376.0</td>\n",
       "      <td>Canada</td>\n",
       "      <td>Alberta</td>\n",
       "      <td>Edmonton</td>\n",
       "      <td>T9G 1W3</td>\n",
       "      <td>Female</td>\n",
       "      <td>Bachelor</td>\n",
       "      <td>92552.0</td>\n",
       "      <td>Married</td>\n",
       "      <td>Aurora</td>\n",
       "      <td>7919.2</td>\n",
       "      <td>Standard</td>\n",
       "      <td>2016</td>\n",
       "      <td>8</td>\n",
       "      <td>NaN</td>\n",
       "      <td>NaN</td>\n",
       "      <td>Basic</td>\n",
       "    </tr>\n",
       "  </tbody>\n",
       "</table>\n",
       "</div>"
      ],
      "text/plain": [
       "   loyalty_number  flights_booked  flights_with_companions  total_flights  \\\n",
       "0          100018             157                       35            192   \n",
       "\n",
       "   distance  points_accumulated country province      city postal_code  \\\n",
       "0     50682              5376.0  Canada  Alberta  Edmonton     T9G 1W3   \n",
       "\n",
       "   gender education   salary marital_status loyalty_card     clv  \\\n",
       "0  Female  Bachelor  92552.0        Married       Aurora  7919.2   \n",
       "\n",
       "  enrollment_type  enrollment_year  enrollment_month  cancellation_year  \\\n",
       "0        Standard             2016                 8                NaN   \n",
       "\n",
       "   cancellation_month  grupo  \n",
       "0                 NaN  Basic  "
      ]
     },
     "execution_count": 72,
     "metadata": {},
     "output_type": "execute_result"
    }
   ],
   "source": [
    "df_union.head(1)"
   ]
  },
  {
   "cell_type": "code",
   "execution_count": 85,
   "metadata": {},
   "outputs": [
    {
     "data": {
      "text/html": [
       "<div>\n",
       "<style scoped>\n",
       "    .dataframe tbody tr th:only-of-type {\n",
       "        vertical-align: middle;\n",
       "    }\n",
       "\n",
       "    .dataframe tbody tr th {\n",
       "        vertical-align: top;\n",
       "    }\n",
       "\n",
       "    .dataframe thead th {\n",
       "        text-align: right;\n",
       "    }\n",
       "</style>\n",
       "<table border=\"1\" class=\"dataframe\">\n",
       "  <thead>\n",
       "    <tr style=\"text-align: right;\">\n",
       "      <th></th>\n",
       "      <th>grupo</th>\n",
       "      <th>flights_booked</th>\n",
       "    </tr>\n",
       "  </thead>\n",
       "  <tbody>\n",
       "    <tr>\n",
       "      <th>0</th>\n",
       "      <td>Basic</td>\n",
       "      <td>1117116</td>\n",
       "    </tr>\n",
       "    <tr>\n",
       "      <th>1</th>\n",
       "      <td>High</td>\n",
       "      <td>552048</td>\n",
       "    </tr>\n",
       "  </tbody>\n",
       "</table>\n",
       "</div>"
      ],
      "text/plain": [
       "   grupo  flights_booked\n",
       "0  Basic         1117116\n",
       "1   High          552048"
      ]
     },
     "execution_count": 85,
     "metadata": {},
     "output_type": "execute_result"
    }
   ],
   "source": [
    "df_analisis0 = df_union.groupby(\"grupo\")[\"flights_booked\"].sum().reset_index()\n",
    "df_analisis0"
   ]
  },
  {
   "cell_type": "code",
   "execution_count": 86,
   "metadata": {},
   "outputs": [
    {
     "data": {
      "text/plain": [
       "grupo\n",
       "Basic    11257\n",
       "High      5480\n",
       "Name: loyalty_number, dtype: int64"
      ]
     },
     "execution_count": 86,
     "metadata": {},
     "output_type": "execute_result"
    }
   ],
   "source": [
    "df_union.groupby('grupo')['loyalty_number'].count()"
   ]
  },
  {
   "cell_type": "code",
   "execution_count": null,
   "metadata": {},
   "outputs": [],
   "source": [
    "# Del total de clientes (16737), 11257 que corresponden al grupo de educación básica (67,26%) realizaron 1117116 (66,93%)\n",
    "#  reservas (de un total de 1669164)"
   ]
  }
 ],
 "metadata": {
  "kernelspec": {
   "display_name": "Python 3",
   "language": "python",
   "name": "python3"
  },
  "language_info": {
   "codemirror_mode": {
    "name": "ipython",
    "version": 3
   },
   "file_extension": ".py",
   "mimetype": "text/x-python",
   "name": "python",
   "nbconvert_exporter": "python",
   "pygments_lexer": "ipython3",
   "version": "3.11.9"
  }
 },
 "nbformat": 4,
 "nbformat_minor": 2
}
